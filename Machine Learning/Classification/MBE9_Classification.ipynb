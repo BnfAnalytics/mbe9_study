{
  "nbformat": 4,
  "nbformat_minor": 0,
  "metadata": {
    "colab": {
      "provenance": []
    },
    "kernelspec": {
      "name": "python3",
      "display_name": "Python 3"
    },
    "language_info": {
      "name": "python"
    }
  },
  "cells": [
    {
      "cell_type": "code",
      "source": [
        "from google.colab import drive\n",
        "drive.mount('/content/drive')"
      ],
      "metadata": {
        "colab": {
          "base_uri": "https://localhost:8080/"
        },
        "id": "OnSkubd5gx8X",
        "outputId": "63fd2560-c620-46d3-a3f0-d521f81e4b3d"
      },
      "execution_count": 1,
      "outputs": [
        {
          "output_type": "stream",
          "name": "stdout",
          "text": [
            "Mounted at /content/drive\n"
          ]
        }
      ]
    },
    {
      "cell_type": "code",
      "execution_count": 2,
      "metadata": {
        "id": "wCJ7oThXf6TP"
      },
      "outputs": [],
      "source": [
        "import pandas as pd\n",
        "import numpy as np\n",
        "import matplotlib.pyplot as plt"
      ]
    },
    {
      "cell_type": "code",
      "source": [
        "class_lr=pd.read_csv('/content/drive/MyDrive/Python Datasets/Social_Network_Ads(1).csv')"
      ],
      "metadata": {
        "id": "fFHTCrLihPOK"
      },
      "execution_count": 3,
      "outputs": []
    },
    {
      "cell_type": "code",
      "source": [
        "class_lr.head()"
      ],
      "metadata": {
        "colab": {
          "base_uri": "https://localhost:8080/",
          "height": 0
        },
        "id": "gBUMNRiuhoQt",
        "outputId": "efc2cca3-b400-4443-9d79-c35ef04d89a6",
        "collapsed": true
      },
      "execution_count": 4,
      "outputs": [
        {
          "output_type": "execute_result",
          "data": {
            "text/plain": [
              "    User ID  Gender  Age  EstimatedSalary  Purchased\n",
              "0  15624510    Male   19            19000          0\n",
              "1  15810944    Male   35            20000          0\n",
              "2  15668575  Female   26            43000          0\n",
              "3  15603246  Female   27            57000          0\n",
              "4  15804002    Male   19            76000          0"
            ],
            "text/html": [
              "\n",
              "  <div id=\"df-b342a324-6a8c-42bf-b943-e72b266ea940\" class=\"colab-df-container\">\n",
              "    <div>\n",
              "<style scoped>\n",
              "    .dataframe tbody tr th:only-of-type {\n",
              "        vertical-align: middle;\n",
              "    }\n",
              "\n",
              "    .dataframe tbody tr th {\n",
              "        vertical-align: top;\n",
              "    }\n",
              "\n",
              "    .dataframe thead th {\n",
              "        text-align: right;\n",
              "    }\n",
              "</style>\n",
              "<table border=\"1\" class=\"dataframe\">\n",
              "  <thead>\n",
              "    <tr style=\"text-align: right;\">\n",
              "      <th></th>\n",
              "      <th>User ID</th>\n",
              "      <th>Gender</th>\n",
              "      <th>Age</th>\n",
              "      <th>EstimatedSalary</th>\n",
              "      <th>Purchased</th>\n",
              "    </tr>\n",
              "  </thead>\n",
              "  <tbody>\n",
              "    <tr>\n",
              "      <th>0</th>\n",
              "      <td>15624510</td>\n",
              "      <td>Male</td>\n",
              "      <td>19</td>\n",
              "      <td>19000</td>\n",
              "      <td>0</td>\n",
              "    </tr>\n",
              "    <tr>\n",
              "      <th>1</th>\n",
              "      <td>15810944</td>\n",
              "      <td>Male</td>\n",
              "      <td>35</td>\n",
              "      <td>20000</td>\n",
              "      <td>0</td>\n",
              "    </tr>\n",
              "    <tr>\n",
              "      <th>2</th>\n",
              "      <td>15668575</td>\n",
              "      <td>Female</td>\n",
              "      <td>26</td>\n",
              "      <td>43000</td>\n",
              "      <td>0</td>\n",
              "    </tr>\n",
              "    <tr>\n",
              "      <th>3</th>\n",
              "      <td>15603246</td>\n",
              "      <td>Female</td>\n",
              "      <td>27</td>\n",
              "      <td>57000</td>\n",
              "      <td>0</td>\n",
              "    </tr>\n",
              "    <tr>\n",
              "      <th>4</th>\n",
              "      <td>15804002</td>\n",
              "      <td>Male</td>\n",
              "      <td>19</td>\n",
              "      <td>76000</td>\n",
              "      <td>0</td>\n",
              "    </tr>\n",
              "  </tbody>\n",
              "</table>\n",
              "</div>\n",
              "    <div class=\"colab-df-buttons\">\n",
              "\n",
              "  <div class=\"colab-df-container\">\n",
              "    <button class=\"colab-df-convert\" onclick=\"convertToInteractive('df-b342a324-6a8c-42bf-b943-e72b266ea940')\"\n",
              "            title=\"Convert this dataframe to an interactive table.\"\n",
              "            style=\"display:none;\">\n",
              "\n",
              "  <svg xmlns=\"http://www.w3.org/2000/svg\" height=\"24px\" viewBox=\"0 -960 960 960\">\n",
              "    <path d=\"M120-120v-720h720v720H120Zm60-500h600v-160H180v160Zm220 220h160v-160H400v160Zm0 220h160v-160H400v160ZM180-400h160v-160H180v160Zm440 0h160v-160H620v160ZM180-180h160v-160H180v160Zm440 0h160v-160H620v160Z\"/>\n",
              "  </svg>\n",
              "    </button>\n",
              "\n",
              "  <style>\n",
              "    .colab-df-container {\n",
              "      display:flex;\n",
              "      gap: 12px;\n",
              "    }\n",
              "\n",
              "    .colab-df-convert {\n",
              "      background-color: #E8F0FE;\n",
              "      border: none;\n",
              "      border-radius: 50%;\n",
              "      cursor: pointer;\n",
              "      display: none;\n",
              "      fill: #1967D2;\n",
              "      height: 32px;\n",
              "      padding: 0 0 0 0;\n",
              "      width: 32px;\n",
              "    }\n",
              "\n",
              "    .colab-df-convert:hover {\n",
              "      background-color: #E2EBFA;\n",
              "      box-shadow: 0px 1px 2px rgba(60, 64, 67, 0.3), 0px 1px 3px 1px rgba(60, 64, 67, 0.15);\n",
              "      fill: #174EA6;\n",
              "    }\n",
              "\n",
              "    .colab-df-buttons div {\n",
              "      margin-bottom: 4px;\n",
              "    }\n",
              "\n",
              "    [theme=dark] .colab-df-convert {\n",
              "      background-color: #3B4455;\n",
              "      fill: #D2E3FC;\n",
              "    }\n",
              "\n",
              "    [theme=dark] .colab-df-convert:hover {\n",
              "      background-color: #434B5C;\n",
              "      box-shadow: 0px 1px 3px 1px rgba(0, 0, 0, 0.15);\n",
              "      filter: drop-shadow(0px 1px 2px rgba(0, 0, 0, 0.3));\n",
              "      fill: #FFFFFF;\n",
              "    }\n",
              "  </style>\n",
              "\n",
              "    <script>\n",
              "      const buttonEl =\n",
              "        document.querySelector('#df-b342a324-6a8c-42bf-b943-e72b266ea940 button.colab-df-convert');\n",
              "      buttonEl.style.display =\n",
              "        google.colab.kernel.accessAllowed ? 'block' : 'none';\n",
              "\n",
              "      async function convertToInteractive(key) {\n",
              "        const element = document.querySelector('#df-b342a324-6a8c-42bf-b943-e72b266ea940');\n",
              "        const dataTable =\n",
              "          await google.colab.kernel.invokeFunction('convertToInteractive',\n",
              "                                                    [key], {});\n",
              "        if (!dataTable) return;\n",
              "\n",
              "        const docLinkHtml = 'Like what you see? Visit the ' +\n",
              "          '<a target=\"_blank\" href=https://colab.research.google.com/notebooks/data_table.ipynb>data table notebook</a>'\n",
              "          + ' to learn more about interactive tables.';\n",
              "        element.innerHTML = '';\n",
              "        dataTable['output_type'] = 'display_data';\n",
              "        await google.colab.output.renderOutput(dataTable, element);\n",
              "        const docLink = document.createElement('div');\n",
              "        docLink.innerHTML = docLinkHtml;\n",
              "        element.appendChild(docLink);\n",
              "      }\n",
              "    </script>\n",
              "  </div>\n",
              "\n",
              "\n",
              "<div id=\"df-6e7ea5c2-027b-4ebd-84ac-735bf5e9372f\">\n",
              "  <button class=\"colab-df-quickchart\" onclick=\"quickchart('df-6e7ea5c2-027b-4ebd-84ac-735bf5e9372f')\"\n",
              "            title=\"Suggest charts\"\n",
              "            style=\"display:none;\">\n",
              "\n",
              "<svg xmlns=\"http://www.w3.org/2000/svg\" height=\"24px\"viewBox=\"0 0 24 24\"\n",
              "     width=\"24px\">\n",
              "    <g>\n",
              "        <path d=\"M19 3H5c-1.1 0-2 .9-2 2v14c0 1.1.9 2 2 2h14c1.1 0 2-.9 2-2V5c0-1.1-.9-2-2-2zM9 17H7v-7h2v7zm4 0h-2V7h2v10zm4 0h-2v-4h2v4z\"/>\n",
              "    </g>\n",
              "</svg>\n",
              "  </button>\n",
              "\n",
              "<style>\n",
              "  .colab-df-quickchart {\n",
              "      --bg-color: #E8F0FE;\n",
              "      --fill-color: #1967D2;\n",
              "      --hover-bg-color: #E2EBFA;\n",
              "      --hover-fill-color: #174EA6;\n",
              "      --disabled-fill-color: #AAA;\n",
              "      --disabled-bg-color: #DDD;\n",
              "  }\n",
              "\n",
              "  [theme=dark] .colab-df-quickchart {\n",
              "      --bg-color: #3B4455;\n",
              "      --fill-color: #D2E3FC;\n",
              "      --hover-bg-color: #434B5C;\n",
              "      --hover-fill-color: #FFFFFF;\n",
              "      --disabled-bg-color: #3B4455;\n",
              "      --disabled-fill-color: #666;\n",
              "  }\n",
              "\n",
              "  .colab-df-quickchart {\n",
              "    background-color: var(--bg-color);\n",
              "    border: none;\n",
              "    border-radius: 50%;\n",
              "    cursor: pointer;\n",
              "    display: none;\n",
              "    fill: var(--fill-color);\n",
              "    height: 32px;\n",
              "    padding: 0;\n",
              "    width: 32px;\n",
              "  }\n",
              "\n",
              "  .colab-df-quickchart:hover {\n",
              "    background-color: var(--hover-bg-color);\n",
              "    box-shadow: 0 1px 2px rgba(60, 64, 67, 0.3), 0 1px 3px 1px rgba(60, 64, 67, 0.15);\n",
              "    fill: var(--button-hover-fill-color);\n",
              "  }\n",
              "\n",
              "  .colab-df-quickchart-complete:disabled,\n",
              "  .colab-df-quickchart-complete:disabled:hover {\n",
              "    background-color: var(--disabled-bg-color);\n",
              "    fill: var(--disabled-fill-color);\n",
              "    box-shadow: none;\n",
              "  }\n",
              "\n",
              "  .colab-df-spinner {\n",
              "    border: 2px solid var(--fill-color);\n",
              "    border-color: transparent;\n",
              "    border-bottom-color: var(--fill-color);\n",
              "    animation:\n",
              "      spin 1s steps(1) infinite;\n",
              "  }\n",
              "\n",
              "  @keyframes spin {\n",
              "    0% {\n",
              "      border-color: transparent;\n",
              "      border-bottom-color: var(--fill-color);\n",
              "      border-left-color: var(--fill-color);\n",
              "    }\n",
              "    20% {\n",
              "      border-color: transparent;\n",
              "      border-left-color: var(--fill-color);\n",
              "      border-top-color: var(--fill-color);\n",
              "    }\n",
              "    30% {\n",
              "      border-color: transparent;\n",
              "      border-left-color: var(--fill-color);\n",
              "      border-top-color: var(--fill-color);\n",
              "      border-right-color: var(--fill-color);\n",
              "    }\n",
              "    40% {\n",
              "      border-color: transparent;\n",
              "      border-right-color: var(--fill-color);\n",
              "      border-top-color: var(--fill-color);\n",
              "    }\n",
              "    60% {\n",
              "      border-color: transparent;\n",
              "      border-right-color: var(--fill-color);\n",
              "    }\n",
              "    80% {\n",
              "      border-color: transparent;\n",
              "      border-right-color: var(--fill-color);\n",
              "      border-bottom-color: var(--fill-color);\n",
              "    }\n",
              "    90% {\n",
              "      border-color: transparent;\n",
              "      border-bottom-color: var(--fill-color);\n",
              "    }\n",
              "  }\n",
              "</style>\n",
              "\n",
              "  <script>\n",
              "    async function quickchart(key) {\n",
              "      const quickchartButtonEl =\n",
              "        document.querySelector('#' + key + ' button');\n",
              "      quickchartButtonEl.disabled = true;  // To prevent multiple clicks.\n",
              "      quickchartButtonEl.classList.add('colab-df-spinner');\n",
              "      try {\n",
              "        const charts = await google.colab.kernel.invokeFunction(\n",
              "            'suggestCharts', [key], {});\n",
              "      } catch (error) {\n",
              "        console.error('Error during call to suggestCharts:', error);\n",
              "      }\n",
              "      quickchartButtonEl.classList.remove('colab-df-spinner');\n",
              "      quickchartButtonEl.classList.add('colab-df-quickchart-complete');\n",
              "    }\n",
              "    (() => {\n",
              "      let quickchartButtonEl =\n",
              "        document.querySelector('#df-6e7ea5c2-027b-4ebd-84ac-735bf5e9372f button');\n",
              "      quickchartButtonEl.style.display =\n",
              "        google.colab.kernel.accessAllowed ? 'block' : 'none';\n",
              "    })();\n",
              "  </script>\n",
              "</div>\n",
              "\n",
              "    </div>\n",
              "  </div>\n"
            ],
            "application/vnd.google.colaboratory.intrinsic+json": {
              "type": "dataframe",
              "variable_name": "class_lr",
              "summary": "{\n  \"name\": \"class_lr\",\n  \"rows\": 400,\n  \"fields\": [\n    {\n      \"column\": \"User ID\",\n      \"properties\": {\n        \"dtype\": \"number\",\n        \"std\": 71658,\n        \"min\": 15566689,\n        \"max\": 15815236,\n        \"num_unique_values\": 400,\n        \"samples\": [\n          15697424,\n          15609669,\n          15776733\n        ],\n        \"semantic_type\": \"\",\n        \"description\": \"\"\n      }\n    },\n    {\n      \"column\": \"Gender\",\n      \"properties\": {\n        \"dtype\": \"category\",\n        \"num_unique_values\": 2,\n        \"samples\": [\n          \"Female\",\n          \"Male\"\n        ],\n        \"semantic_type\": \"\",\n        \"description\": \"\"\n      }\n    },\n    {\n      \"column\": \"Age\",\n      \"properties\": {\n        \"dtype\": \"number\",\n        \"std\": 10,\n        \"min\": 18,\n        \"max\": 60,\n        \"num_unique_values\": 43,\n        \"samples\": [\n          50,\n          39\n        ],\n        \"semantic_type\": \"\",\n        \"description\": \"\"\n      }\n    },\n    {\n      \"column\": \"EstimatedSalary\",\n      \"properties\": {\n        \"dtype\": \"number\",\n        \"std\": 34096,\n        \"min\": 15000,\n        \"max\": 150000,\n        \"num_unique_values\": 117,\n        \"samples\": [\n          117000,\n          76000\n        ],\n        \"semantic_type\": \"\",\n        \"description\": \"\"\n      }\n    },\n    {\n      \"column\": \"Purchased\",\n      \"properties\": {\n        \"dtype\": \"number\",\n        \"std\": 0,\n        \"min\": 0,\n        \"max\": 1,\n        \"num_unique_values\": 2,\n        \"samples\": [\n          1,\n          0\n        ],\n        \"semantic_type\": \"\",\n        \"description\": \"\"\n      }\n    }\n  ]\n}"
            }
          },
          "metadata": {},
          "execution_count": 4
        }
      ]
    },
    {
      "cell_type": "code",
      "source": [
        "class_lr.shape"
      ],
      "metadata": {
        "colab": {
          "base_uri": "https://localhost:8080/"
        },
        "id": "5FSIk64shxvt",
        "outputId": "ee19ffdf-e5af-4856-ede7-dd3baae4b665",
        "collapsed": true
      },
      "execution_count": null,
      "outputs": [
        {
          "output_type": "execute_result",
          "data": {
            "text/plain": [
              "(400, 5)"
            ]
          },
          "metadata": {},
          "execution_count": 6
        }
      ]
    },
    {
      "cell_type": "code",
      "source": [
        "class_lr.info()"
      ],
      "metadata": {
        "colab": {
          "base_uri": "https://localhost:8080/"
        },
        "id": "T4nQFVJsh33d",
        "outputId": "099bb51a-429a-4297-c0f8-f21a4ad8e329",
        "collapsed": true
      },
      "execution_count": null,
      "outputs": [
        {
          "output_type": "stream",
          "name": "stdout",
          "text": [
            "<class 'pandas.core.frame.DataFrame'>\n",
            "RangeIndex: 400 entries, 0 to 399\n",
            "Data columns (total 5 columns):\n",
            " #   Column           Non-Null Count  Dtype \n",
            "---  ------           --------------  ----- \n",
            " 0   User ID          400 non-null    int64 \n",
            " 1   Gender           400 non-null    object\n",
            " 2   Age              400 non-null    int64 \n",
            " 3   EstimatedSalary  400 non-null    int64 \n",
            " 4   Purchased        400 non-null    int64 \n",
            "dtypes: int64(4), object(1)\n",
            "memory usage: 15.8+ KB\n"
          ]
        }
      ]
    },
    {
      "cell_type": "code",
      "source": [
        "class_lr.describe()"
      ],
      "metadata": {
        "colab": {
          "base_uri": "https://localhost:8080/",
          "height": 300
        },
        "id": "9XMXR3uriC9Q",
        "outputId": "41d41148-f6ab-434c-d011-fbdc98e7cd4c",
        "collapsed": true
      },
      "execution_count": null,
      "outputs": [
        {
          "output_type": "execute_result",
          "data": {
            "text/plain": [
              "            User ID         Age  EstimatedSalary   Purchased\n",
              "count  4.000000e+02  400.000000       400.000000  400.000000\n",
              "mean   1.569154e+07   37.655000     69742.500000    0.357500\n",
              "std    7.165832e+04   10.482877     34096.960282    0.479864\n",
              "min    1.556669e+07   18.000000     15000.000000    0.000000\n",
              "25%    1.562676e+07   29.750000     43000.000000    0.000000\n",
              "50%    1.569434e+07   37.000000     70000.000000    0.000000\n",
              "75%    1.575036e+07   46.000000     88000.000000    1.000000\n",
              "max    1.581524e+07   60.000000    150000.000000    1.000000"
            ],
            "text/html": [
              "\n",
              "  <div id=\"df-045f77ee-bd88-47f2-a68a-c43f04c3f89a\" class=\"colab-df-container\">\n",
              "    <div>\n",
              "<style scoped>\n",
              "    .dataframe tbody tr th:only-of-type {\n",
              "        vertical-align: middle;\n",
              "    }\n",
              "\n",
              "    .dataframe tbody tr th {\n",
              "        vertical-align: top;\n",
              "    }\n",
              "\n",
              "    .dataframe thead th {\n",
              "        text-align: right;\n",
              "    }\n",
              "</style>\n",
              "<table border=\"1\" class=\"dataframe\">\n",
              "  <thead>\n",
              "    <tr style=\"text-align: right;\">\n",
              "      <th></th>\n",
              "      <th>User ID</th>\n",
              "      <th>Age</th>\n",
              "      <th>EstimatedSalary</th>\n",
              "      <th>Purchased</th>\n",
              "    </tr>\n",
              "  </thead>\n",
              "  <tbody>\n",
              "    <tr>\n",
              "      <th>count</th>\n",
              "      <td>4.000000e+02</td>\n",
              "      <td>400.000000</td>\n",
              "      <td>400.000000</td>\n",
              "      <td>400.000000</td>\n",
              "    </tr>\n",
              "    <tr>\n",
              "      <th>mean</th>\n",
              "      <td>1.569154e+07</td>\n",
              "      <td>37.655000</td>\n",
              "      <td>69742.500000</td>\n",
              "      <td>0.357500</td>\n",
              "    </tr>\n",
              "    <tr>\n",
              "      <th>std</th>\n",
              "      <td>7.165832e+04</td>\n",
              "      <td>10.482877</td>\n",
              "      <td>34096.960282</td>\n",
              "      <td>0.479864</td>\n",
              "    </tr>\n",
              "    <tr>\n",
              "      <th>min</th>\n",
              "      <td>1.556669e+07</td>\n",
              "      <td>18.000000</td>\n",
              "      <td>15000.000000</td>\n",
              "      <td>0.000000</td>\n",
              "    </tr>\n",
              "    <tr>\n",
              "      <th>25%</th>\n",
              "      <td>1.562676e+07</td>\n",
              "      <td>29.750000</td>\n",
              "      <td>43000.000000</td>\n",
              "      <td>0.000000</td>\n",
              "    </tr>\n",
              "    <tr>\n",
              "      <th>50%</th>\n",
              "      <td>1.569434e+07</td>\n",
              "      <td>37.000000</td>\n",
              "      <td>70000.000000</td>\n",
              "      <td>0.000000</td>\n",
              "    </tr>\n",
              "    <tr>\n",
              "      <th>75%</th>\n",
              "      <td>1.575036e+07</td>\n",
              "      <td>46.000000</td>\n",
              "      <td>88000.000000</td>\n",
              "      <td>1.000000</td>\n",
              "    </tr>\n",
              "    <tr>\n",
              "      <th>max</th>\n",
              "      <td>1.581524e+07</td>\n",
              "      <td>60.000000</td>\n",
              "      <td>150000.000000</td>\n",
              "      <td>1.000000</td>\n",
              "    </tr>\n",
              "  </tbody>\n",
              "</table>\n",
              "</div>\n",
              "    <div class=\"colab-df-buttons\">\n",
              "\n",
              "  <div class=\"colab-df-container\">\n",
              "    <button class=\"colab-df-convert\" onclick=\"convertToInteractive('df-045f77ee-bd88-47f2-a68a-c43f04c3f89a')\"\n",
              "            title=\"Convert this dataframe to an interactive table.\"\n",
              "            style=\"display:none;\">\n",
              "\n",
              "  <svg xmlns=\"http://www.w3.org/2000/svg\" height=\"24px\" viewBox=\"0 -960 960 960\">\n",
              "    <path d=\"M120-120v-720h720v720H120Zm60-500h600v-160H180v160Zm220 220h160v-160H400v160Zm0 220h160v-160H400v160ZM180-400h160v-160H180v160Zm440 0h160v-160H620v160ZM180-180h160v-160H180v160Zm440 0h160v-160H620v160Z\"/>\n",
              "  </svg>\n",
              "    </button>\n",
              "\n",
              "  <style>\n",
              "    .colab-df-container {\n",
              "      display:flex;\n",
              "      gap: 12px;\n",
              "    }\n",
              "\n",
              "    .colab-df-convert {\n",
              "      background-color: #E8F0FE;\n",
              "      border: none;\n",
              "      border-radius: 50%;\n",
              "      cursor: pointer;\n",
              "      display: none;\n",
              "      fill: #1967D2;\n",
              "      height: 32px;\n",
              "      padding: 0 0 0 0;\n",
              "      width: 32px;\n",
              "    }\n",
              "\n",
              "    .colab-df-convert:hover {\n",
              "      background-color: #E2EBFA;\n",
              "      box-shadow: 0px 1px 2px rgba(60, 64, 67, 0.3), 0px 1px 3px 1px rgba(60, 64, 67, 0.15);\n",
              "      fill: #174EA6;\n",
              "    }\n",
              "\n",
              "    .colab-df-buttons div {\n",
              "      margin-bottom: 4px;\n",
              "    }\n",
              "\n",
              "    [theme=dark] .colab-df-convert {\n",
              "      background-color: #3B4455;\n",
              "      fill: #D2E3FC;\n",
              "    }\n",
              "\n",
              "    [theme=dark] .colab-df-convert:hover {\n",
              "      background-color: #434B5C;\n",
              "      box-shadow: 0px 1px 3px 1px rgba(0, 0, 0, 0.15);\n",
              "      filter: drop-shadow(0px 1px 2px rgba(0, 0, 0, 0.3));\n",
              "      fill: #FFFFFF;\n",
              "    }\n",
              "  </style>\n",
              "\n",
              "    <script>\n",
              "      const buttonEl =\n",
              "        document.querySelector('#df-045f77ee-bd88-47f2-a68a-c43f04c3f89a button.colab-df-convert');\n",
              "      buttonEl.style.display =\n",
              "        google.colab.kernel.accessAllowed ? 'block' : 'none';\n",
              "\n",
              "      async function convertToInteractive(key) {\n",
              "        const element = document.querySelector('#df-045f77ee-bd88-47f2-a68a-c43f04c3f89a');\n",
              "        const dataTable =\n",
              "          await google.colab.kernel.invokeFunction('convertToInteractive',\n",
              "                                                    [key], {});\n",
              "        if (!dataTable) return;\n",
              "\n",
              "        const docLinkHtml = 'Like what you see? Visit the ' +\n",
              "          '<a target=\"_blank\" href=https://colab.research.google.com/notebooks/data_table.ipynb>data table notebook</a>'\n",
              "          + ' to learn more about interactive tables.';\n",
              "        element.innerHTML = '';\n",
              "        dataTable['output_type'] = 'display_data';\n",
              "        await google.colab.output.renderOutput(dataTable, element);\n",
              "        const docLink = document.createElement('div');\n",
              "        docLink.innerHTML = docLinkHtml;\n",
              "        element.appendChild(docLink);\n",
              "      }\n",
              "    </script>\n",
              "  </div>\n",
              "\n",
              "\n",
              "<div id=\"df-89c84700-992c-490c-8f43-00e2f77bf2b1\">\n",
              "  <button class=\"colab-df-quickchart\" onclick=\"quickchart('df-89c84700-992c-490c-8f43-00e2f77bf2b1')\"\n",
              "            title=\"Suggest charts\"\n",
              "            style=\"display:none;\">\n",
              "\n",
              "<svg xmlns=\"http://www.w3.org/2000/svg\" height=\"24px\"viewBox=\"0 0 24 24\"\n",
              "     width=\"24px\">\n",
              "    <g>\n",
              "        <path d=\"M19 3H5c-1.1 0-2 .9-2 2v14c0 1.1.9 2 2 2h14c1.1 0 2-.9 2-2V5c0-1.1-.9-2-2-2zM9 17H7v-7h2v7zm4 0h-2V7h2v10zm4 0h-2v-4h2v4z\"/>\n",
              "    </g>\n",
              "</svg>\n",
              "  </button>\n",
              "\n",
              "<style>\n",
              "  .colab-df-quickchart {\n",
              "      --bg-color: #E8F0FE;\n",
              "      --fill-color: #1967D2;\n",
              "      --hover-bg-color: #E2EBFA;\n",
              "      --hover-fill-color: #174EA6;\n",
              "      --disabled-fill-color: #AAA;\n",
              "      --disabled-bg-color: #DDD;\n",
              "  }\n",
              "\n",
              "  [theme=dark] .colab-df-quickchart {\n",
              "      --bg-color: #3B4455;\n",
              "      --fill-color: #D2E3FC;\n",
              "      --hover-bg-color: #434B5C;\n",
              "      --hover-fill-color: #FFFFFF;\n",
              "      --disabled-bg-color: #3B4455;\n",
              "      --disabled-fill-color: #666;\n",
              "  }\n",
              "\n",
              "  .colab-df-quickchart {\n",
              "    background-color: var(--bg-color);\n",
              "    border: none;\n",
              "    border-radius: 50%;\n",
              "    cursor: pointer;\n",
              "    display: none;\n",
              "    fill: var(--fill-color);\n",
              "    height: 32px;\n",
              "    padding: 0;\n",
              "    width: 32px;\n",
              "  }\n",
              "\n",
              "  .colab-df-quickchart:hover {\n",
              "    background-color: var(--hover-bg-color);\n",
              "    box-shadow: 0 1px 2px rgba(60, 64, 67, 0.3), 0 1px 3px 1px rgba(60, 64, 67, 0.15);\n",
              "    fill: var(--button-hover-fill-color);\n",
              "  }\n",
              "\n",
              "  .colab-df-quickchart-complete:disabled,\n",
              "  .colab-df-quickchart-complete:disabled:hover {\n",
              "    background-color: var(--disabled-bg-color);\n",
              "    fill: var(--disabled-fill-color);\n",
              "    box-shadow: none;\n",
              "  }\n",
              "\n",
              "  .colab-df-spinner {\n",
              "    border: 2px solid var(--fill-color);\n",
              "    border-color: transparent;\n",
              "    border-bottom-color: var(--fill-color);\n",
              "    animation:\n",
              "      spin 1s steps(1) infinite;\n",
              "  }\n",
              "\n",
              "  @keyframes spin {\n",
              "    0% {\n",
              "      border-color: transparent;\n",
              "      border-bottom-color: var(--fill-color);\n",
              "      border-left-color: var(--fill-color);\n",
              "    }\n",
              "    20% {\n",
              "      border-color: transparent;\n",
              "      border-left-color: var(--fill-color);\n",
              "      border-top-color: var(--fill-color);\n",
              "    }\n",
              "    30% {\n",
              "      border-color: transparent;\n",
              "      border-left-color: var(--fill-color);\n",
              "      border-top-color: var(--fill-color);\n",
              "      border-right-color: var(--fill-color);\n",
              "    }\n",
              "    40% {\n",
              "      border-color: transparent;\n",
              "      border-right-color: var(--fill-color);\n",
              "      border-top-color: var(--fill-color);\n",
              "    }\n",
              "    60% {\n",
              "      border-color: transparent;\n",
              "      border-right-color: var(--fill-color);\n",
              "    }\n",
              "    80% {\n",
              "      border-color: transparent;\n",
              "      border-right-color: var(--fill-color);\n",
              "      border-bottom-color: var(--fill-color);\n",
              "    }\n",
              "    90% {\n",
              "      border-color: transparent;\n",
              "      border-bottom-color: var(--fill-color);\n",
              "    }\n",
              "  }\n",
              "</style>\n",
              "\n",
              "  <script>\n",
              "    async function quickchart(key) {\n",
              "      const quickchartButtonEl =\n",
              "        document.querySelector('#' + key + ' button');\n",
              "      quickchartButtonEl.disabled = true;  // To prevent multiple clicks.\n",
              "      quickchartButtonEl.classList.add('colab-df-spinner');\n",
              "      try {\n",
              "        const charts = await google.colab.kernel.invokeFunction(\n",
              "            'suggestCharts', [key], {});\n",
              "      } catch (error) {\n",
              "        console.error('Error during call to suggestCharts:', error);\n",
              "      }\n",
              "      quickchartButtonEl.classList.remove('colab-df-spinner');\n",
              "      quickchartButtonEl.classList.add('colab-df-quickchart-complete');\n",
              "    }\n",
              "    (() => {\n",
              "      let quickchartButtonEl =\n",
              "        document.querySelector('#df-89c84700-992c-490c-8f43-00e2f77bf2b1 button');\n",
              "      quickchartButtonEl.style.display =\n",
              "        google.colab.kernel.accessAllowed ? 'block' : 'none';\n",
              "    })();\n",
              "  </script>\n",
              "</div>\n",
              "\n",
              "    </div>\n",
              "  </div>\n"
            ],
            "application/vnd.google.colaboratory.intrinsic+json": {
              "type": "dataframe",
              "summary": "{\n  \"name\": \"class_lr\",\n  \"rows\": 8,\n  \"fields\": [\n    {\n      \"column\": \"User ID\",\n      \"properties\": {\n        \"dtype\": \"number\",\n        \"std\": 7247165.99146923,\n        \"min\": 400.0,\n        \"max\": 15815236.0,\n        \"num_unique_values\": 8,\n        \"samples\": [\n          15691539.7575,\n          15694341.5,\n          400.0\n        ],\n        \"semantic_type\": \"\",\n        \"description\": \"\"\n      }\n    },\n    {\n      \"column\": \"Age\",\n      \"properties\": {\n        \"dtype\": \"number\",\n        \"std\": 130.27423677374767,\n        \"min\": 10.482876597307914,\n        \"max\": 400.0,\n        \"num_unique_values\": 8,\n        \"samples\": [\n          37.655,\n          37.0,\n          400.0\n        ],\n        \"semantic_type\": \"\",\n        \"description\": \"\"\n      }\n    },\n    {\n      \"column\": \"EstimatedSalary\",\n      \"properties\": {\n        \"dtype\": \"number\",\n        \"std\": 47214.004060407126,\n        \"min\": 400.0,\n        \"max\": 150000.0,\n        \"num_unique_values\": 8,\n        \"samples\": [\n          69742.5,\n          70000.0,\n          400.0\n        ],\n        \"semantic_type\": \"\",\n        \"description\": \"\"\n      }\n    },\n    {\n      \"column\": \"Purchased\",\n      \"properties\": {\n        \"dtype\": \"number\",\n        \"std\": 141.27865845809384,\n        \"min\": 0.0,\n        \"max\": 400.0,\n        \"num_unique_values\": 5,\n        \"samples\": [\n          0.3575,\n          1.0,\n          0.479863963596869\n        ],\n        \"semantic_type\": \"\",\n        \"description\": \"\"\n      }\n    }\n  ]\n}"
            }
          },
          "metadata": {},
          "execution_count": 8
        }
      ]
    },
    {
      "cell_type": "markdown",
      "source": [
        "# Separate Dependent and independent Variables"
      ],
      "metadata": {
        "id": "flR2hHbMiWps"
      }
    },
    {
      "cell_type": "code",
      "source": [
        "X=class_lr.iloc[:,[1,2,3]].values\n",
        "y=class_lr.iloc[:,4].values"
      ],
      "metadata": {
        "id": "u5WJjJ5AiUDE"
      },
      "execution_count": 5,
      "outputs": []
    },
    {
      "cell_type": "code",
      "source": [
        "print(X)"
      ],
      "metadata": {
        "colab": {
          "base_uri": "https://localhost:8080/"
        },
        "id": "QSYDxmnOjSf4",
        "outputId": "9c04839f-6f2d-4dc0-e1d3-5029029f7abd",
        "collapsed": true
      },
      "execution_count": null,
      "outputs": [
        {
          "output_type": "stream",
          "name": "stdout",
          "text": [
            "[[1 19 19000]\n",
            " [1 35 20000]\n",
            " [0 26 43000]\n",
            " ...\n",
            " [0 50 20000]\n",
            " [1 36 33000]\n",
            " [0 49 36000]]\n"
          ]
        }
      ]
    },
    {
      "cell_type": "code",
      "source": [
        "from sklearn.preprocessing import LabelEncoder\n",
        "le=LabelEncoder()\n",
        "X[:,0]=le.fit_transform(X[:,0])"
      ],
      "metadata": {
        "id": "PNGvzSZ2jjjJ"
      },
      "execution_count": 6,
      "outputs": []
    },
    {
      "cell_type": "code",
      "source": [
        "from sklearn.model_selection import train_test_split\n",
        "X_train,X_test,y_train,y_test=train_test_split(X,y,test_size=0.3,random_state=0)"
      ],
      "metadata": {
        "id": "REQA9cQXkXcj"
      },
      "execution_count": 7,
      "outputs": []
    },
    {
      "cell_type": "markdown",
      "source": [
        "# Feature Scaling"
      ],
      "metadata": {
        "id": "vrvfLO_Dk_DQ"
      }
    },
    {
      "cell_type": "code",
      "source": [
        "from sklearn.preprocessing import StandardScaler\n",
        "sc=StandardScaler()\n",
        "X_train=sc.fit_transform(X_train)\n",
        "X_test=sc.transform(X_test)"
      ],
      "metadata": {
        "id": "KJButIovkljM"
      },
      "execution_count": 8,
      "outputs": []
    },
    {
      "cell_type": "code",
      "source": [
        "print(X_train)"
      ],
      "metadata": {
        "colab": {
          "base_uri": "https://localhost:8080/"
        },
        "id": "GjtNh4eGlWYi",
        "outputId": "3748b8d6-573f-4013-86c6-c2451b4b3eb8",
        "collapsed": true
      },
      "execution_count": 9,
      "outputs": [
        {
          "output_type": "stream",
          "name": "stdout",
          "text": [
            "[[ 0.99288247 -1.1631724  -1.5849703 ]\n",
            " [ 0.99288247  2.17018137  0.93098672]\n",
            " [-1.00716855  0.0133054   1.22017719]\n",
            " [ 0.99288247  0.20938504  1.07558195]\n",
            " [-1.00716855  0.40546467 -0.48604654]\n",
            " [ 0.99288247 -0.28081405 -0.31253226]\n",
            " [ 0.99288247  0.99370357 -0.8330751 ]\n",
            " [-1.00716855  0.99370357  1.8563962 ]\n",
            " [-1.00716855  0.0133054   1.24909623]\n",
            " [ 0.99288247 -0.86905295  2.26126285]\n",
            " [-1.00716855 -1.1631724  -1.5849703 ]\n",
            " [ 0.99288247  2.17018137 -0.80415605]\n",
            " [ 0.99288247 -1.35925203 -1.46929411]\n",
            " [ 0.99288247  0.40546467  2.2901819 ]\n",
            " [-1.00716855  0.79762394  0.75747245]\n",
            " [ 0.99288247 -0.96709276 -0.31253226]\n",
            " [ 0.99288247  0.11134522  0.75747245]\n",
            " [ 0.99288247 -0.96709276  0.55503912]\n",
            " [ 0.99288247  0.30742485  0.06341534]\n",
            " [ 0.99288247  0.69958412 -1.26686079]\n",
            " [-1.00716855 -0.47689368 -0.0233418 ]\n",
            " [-1.00716855 -1.7514113   0.3526058 ]\n",
            " [ 0.99288247 -0.67297331  0.12125343]\n",
            " [ 0.99288247  0.40546467  0.29476771]\n",
            " [-1.00716855 -0.28081405  0.06341534]\n",
            " [-1.00716855 -0.47689368  2.2901819 ]\n",
            " [ 0.99288247  0.20938504  0.03449629]\n",
            " [-1.00716855  1.28782302  2.20342476]\n",
            " [ 0.99288247  0.79762394  0.26584866]\n",
            " [ 0.99288247 -0.28081405  0.15017248]\n",
            " [ 0.99288247  0.0133054  -0.54388463]\n",
            " [-1.00716855 -0.18277423  0.15017248]\n",
            " [-1.00716855 -0.08473441  0.23692961]\n",
            " [ 0.99288247  0.0133054  -0.25469417]\n",
            " [-1.00716855  2.17018137  1.104501  ]\n",
            " [-1.00716855 -1.7514113   0.3526058 ]\n",
            " [ 0.99288247  1.87606192  0.12125343]\n",
            " [ 0.99288247  0.40546467 -0.13901799]\n",
            " [ 0.99288247 -1.1631724   0.29476771]\n",
            " [ 0.99288247  0.79762394  1.36477242]\n",
            " [ 0.99288247 -0.28081405 -0.25469417]\n",
            " [-1.00716855 -1.65337148 -0.05226085]\n",
            " [-1.00716855 -0.96709276 -0.74631796]\n",
            " [ 0.99288247  0.30742485  0.49720103]\n",
            " [-1.00716855 -0.08473441 -1.06442747]\n",
            " [ 0.99288247 -1.06513258  0.58395817]\n",
            " [ 0.99288247  0.11134522 -0.80415605]\n",
            " [ 0.99288247 -0.96709276  1.53828669]\n",
            " [-1.00716855 -0.67297331  1.39369146]\n",
            " [ 0.99288247 -1.26121221  0.49720103]\n",
            " [-1.00716855 -0.28081405  0.03449629]\n",
            " [ 0.99288247 -0.08473441  0.00557724]\n",
            " [ 0.99288247 -0.28081405 -0.89091319]\n",
            " [ 0.99288247  0.89566375 -1.35361793]\n",
            " [-1.00716855 -0.28081405  2.2323438 ]\n",
            " [-1.00716855  0.99370357  1.97207239]\n",
            " [ 0.99288247 -1.1631724   0.46828198]\n",
            " [ 0.99288247 -1.26121221  0.26584866]\n",
            " [-1.00716855  1.38586284  1.97207239]\n",
            " [ 0.99288247  1.28782302 -1.35361793]\n",
            " [-1.00716855 -0.28081405 -0.28361322]\n",
            " [-1.00716855 -0.47689368  1.24909623]\n",
            " [ 0.99288247 -0.77101313  1.07558195]\n",
            " [ 0.99288247  0.99370357 -1.06442747]\n",
            " [-1.00716855  0.30742485  0.29476771]\n",
            " [-1.00716855  0.99370357  0.75747245]\n",
            " [ 0.99288247 -0.67297331 -1.49821316]\n",
            " [-1.00716855 -0.67297331  0.03449629]\n",
            " [ 0.99288247  0.50350449  1.71180097]\n",
            " [-1.00716855  2.07214155  0.17909152]\n",
            " [-1.00716855 -1.94749093 -0.74631796]\n",
            " [ 0.99288247 -0.18277423  1.39369146]\n",
            " [-1.00716855  0.40546467  0.58395817]\n",
            " [-1.00716855  0.89566375 -1.1511846 ]\n",
            " [-1.00716855 -1.1631724  -0.775237  ]\n",
            " [ 0.99288247  0.20938504  0.23692961]\n",
            " [ 0.99288247  0.79762394 -0.31253226]\n",
            " [-1.00716855  2.07214155 -0.80415605]\n",
            " [-1.00716855  0.79762394  0.12125343]\n",
            " [ 0.99288247 -0.28081405  0.61287722]\n",
            " [-1.00716855 -0.96709276 -0.31253226]\n",
            " [ 0.99288247  0.20938504 -0.37037036]\n",
            " [ 0.99288247  2.07214155  2.11666762]\n",
            " [-1.00716855  1.87606192 -1.26686079]\n",
            " [-1.00716855  1.38586284 -0.91983223]\n",
            " [-1.00716855  0.89566375  1.24909623]\n",
            " [-1.00716855  1.48390265  2.11666762]\n",
            " [ 0.99288247 -0.28081405 -1.23794174]\n",
            " [-1.00716855  1.97410174  0.90206768]\n",
            " [-1.00716855  0.69958412 -0.71739891]\n",
            " [-1.00716855 -1.45729185  0.3526058 ]\n",
            " [ 0.99288247  0.79762394 -1.35361793]\n",
            " [ 0.99288247  0.40546467 -0.13901799]\n",
            " [-1.00716855 -0.96709276  0.41044389]\n",
            " [ 0.99288247  0.0133054  -0.31253226]\n",
            " [-1.00716855 -1.1631724   0.41044389]\n",
            " [-1.00716855 -0.86905295 -1.2090227 ]\n",
            " [-1.00716855 -0.08473441  0.03449629]\n",
            " [-1.00716855 -1.55533166 -0.42820845]\n",
            " [-1.00716855  0.99370357 -1.00658937]\n",
            " [ 0.99288247  1.09174339 -1.2090227 ]\n",
            " [-1.00716855  0.0133054  -0.13901799]\n",
            " [-1.00716855 -1.06513258 -1.52713221]\n",
            " [ 0.99288247  0.79762394 -1.2090227 ]\n",
            " [ 0.99288247  0.99370357  2.05882953]\n",
            " [-1.00716855 -1.1631724  -1.52713221]\n",
            " [-1.00716855 -0.28081405  0.78639149]\n",
            " [-1.00716855  0.11134522 -0.31253226]\n",
            " [-1.00716855 -1.35925203 -1.23794174]\n",
            " [ 0.99288247 -0.5749335  -1.49821316]\n",
            " [ 0.99288247  0.79762394  0.52612008]\n",
            " [ 0.99288247 -0.28081405 -0.34145131]\n",
            " [ 0.99288247  1.7780221  -0.28361322]\n",
            " [ 0.99288247  0.89566375 -1.03550842]\n",
            " [-1.00716855  0.20938504  0.06341534]\n",
            " [ 0.99288247 -0.5749335   0.87314863]\n",
            " [-1.00716855 -1.84945111 -1.41145602]\n",
            " [ 0.99288247 -1.26121221  0.58395817]\n",
            " [ 0.99288247 -0.28081405  0.52612008]\n",
            " [ 0.99288247 -0.96709276 -1.09334651]\n",
            " [-1.00716855  1.1897832  -1.44037507]\n",
            " [ 0.99288247  0.20938504 -0.31253226]\n",
            " [-1.00716855  1.1897832  -0.74631796]\n",
            " [ 0.99288247 -0.28081405  0.06341534]\n",
            " [-1.00716855  0.20938504  2.08774857]\n",
            " [-1.00716855  0.79762394 -1.09334651]\n",
            " [-1.00716855  0.11134522  0.03449629]\n",
            " [ 0.99288247 -1.7514113   0.12125343]\n",
            " [ 0.99288247 -0.86905295  0.15017248]\n",
            " [ 0.99288247 -0.67297331  0.17909152]\n",
            " [ 0.99288247  0.89566375 -1.29577984]\n",
            " [ 0.99288247  0.20938504 -0.25469417]\n",
            " [ 0.99288247 -0.37885386  1.22017719]\n",
            " [-1.00716855  0.0133054   0.29476771]\n",
            " [-1.00716855  0.40546467  0.15017248]\n",
            " [-1.00716855  0.89566375 -0.65956082]\n",
            " [-1.00716855  0.11134522  0.15017248]\n",
            " [ 0.99288247 -1.84945111 -1.29577984]\n",
            " [-1.00716855 -0.08473441  0.29476771]\n",
            " [ 0.99288247 -0.18277423 -0.28361322]\n",
            " [ 0.99288247  0.30742485 -0.51496559]\n",
            " [ 0.99288247 -0.18277423  1.59612479]\n",
            " [-1.00716855  0.99370357 -1.18010365]\n",
            " [-1.00716855 -0.18277423  1.62504383]\n",
            " [-1.00716855  1.28782302  1.8563962 ]\n",
            " [-1.00716855 -1.06513258 -0.37037036]\n",
            " [ 0.99288247  0.0133054   0.03449629]\n",
            " [-1.00716855  0.11134522 -0.25469417]\n",
            " [-1.00716855 -1.55533166 -1.23794174]\n",
            " [-1.00716855 -0.47689368 -0.28361322]\n",
            " [ 0.99288247  0.99370357  0.12125343]\n",
            " [-1.00716855  1.97410174 -1.35361793]\n",
            " [ 0.99288247  1.48390265  0.06341534]\n",
            " [-1.00716855 -0.5749335   1.36477242]\n",
            " [ 0.99288247  1.58194247  0.00557724]\n",
            " [ 0.99288247 -0.77101313  0.29476771]\n",
            " [-1.00716855  1.97410174  0.7285534 ]\n",
            " [-1.00716855 -1.1631724  -0.51496559]\n",
            " [ 0.99288247  0.69958412  0.26584866]\n",
            " [ 0.99288247 -1.35925203 -0.42820845]\n",
            " [ 0.99288247  0.20938504  0.15017248]\n",
            " [-1.00716855 -0.47689368 -1.2090227 ]\n",
            " [-1.00716855  0.6015443   2.00099143]\n",
            " [ 0.99288247 -1.55533166 -1.49821316]\n",
            " [-1.00716855 -0.47689368 -0.54388463]\n",
            " [-1.00716855  0.50350449  1.82747716]\n",
            " [-1.00716855 -1.35925203 -1.09334651]\n",
            " [-1.00716855  0.79762394 -1.38253697]\n",
            " [ 0.99288247 -0.28081405 -0.42820845]\n",
            " [-1.00716855  1.58194247  0.98882482]\n",
            " [-1.00716855  0.99370357  1.42261051]\n",
            " [ 0.99288247 -0.28081405 -0.48604654]\n",
            " [ 0.99288247 -0.08473441  2.14558666]\n",
            " [-1.00716855 -1.45729185 -0.11009894]\n",
            " [-1.00716855 -0.08473441  1.94315334]\n",
            " [ 0.99288247 -0.67297331 -0.34145131]\n",
            " [-1.00716855 -0.47689368 -0.8330751 ]\n",
            " [-1.00716855  0.69958412 -1.38253697]\n",
            " [ 0.99288247 -0.77101313 -1.5849703 ]\n",
            " [ 0.99288247 -1.84945111 -1.46929411]\n",
            " [ 0.99288247  1.09174339  0.12125343]\n",
            " [ 0.99288247  0.11134522  1.50936765]\n",
            " [ 0.99288247 -0.28081405  0.09233438]\n",
            " [ 0.99288247  0.11134522  0.03449629]\n",
            " [ 0.99288247 -1.35925203 -1.35361793]\n",
            " [-1.00716855  0.30742485  0.06341534]\n",
            " [-1.00716855 -0.86905295  0.38152485]\n",
            " [-1.00716855  1.58194247 -1.26686079]\n",
            " [-1.00716855 -0.28081405 -0.74631796]\n",
            " [ 0.99288247 -0.08473441  0.15017248]\n",
            " [-1.00716855 -0.86905295 -0.65956082]\n",
            " [-1.00716855 -0.67297331 -0.05226085]\n",
            " [ 0.99288247  0.40546467 -0.45712749]\n",
            " [ 0.99288247 -0.77101313  1.88531525]\n",
            " [-1.00716855  1.38586284  1.27801528]\n",
            " [-1.00716855  1.1897832  -0.97767033]\n",
            " [ 0.99288247  1.7780221   1.82747716]\n",
            " [ 0.99288247 -0.86905295 -0.25469417]\n",
            " [ 0.99288247 -0.77101313  0.55503912]\n",
            " [ 0.99288247 -1.1631724  -1.55605125]\n",
            " [ 0.99288247 -0.47689368 -1.12226556]\n",
            " [-1.00716855  0.30742485  0.06341534]\n",
            " [ 0.99288247 -0.18277423 -1.06442747]\n",
            " [-1.00716855  1.67998229  1.59612479]\n",
            " [-1.00716855  0.99370357  1.76963906]\n",
            " [-1.00716855  0.30742485  0.03449629]\n",
            " [-1.00716855 -0.77101313 -0.22577513]\n",
            " [ 0.99288247 -0.08473441  0.06341534]\n",
            " [-1.00716855  0.30742485 -0.19685608]\n",
            " [-1.00716855  1.97410174 -0.65956082]\n",
            " [-1.00716855 -0.77101313  1.33585337]\n",
            " [ 0.99288247 -1.7514113  -0.60172273]\n",
            " [ 0.99288247 -0.08473441  0.12125343]\n",
            " [ 0.99288247  0.30742485 -0.31253226]\n",
            " [ 0.99288247  1.09174339  0.55503912]\n",
            " [ 0.99288247 -0.96709276  0.26584866]\n",
            " [-1.00716855  1.48390265  0.3526058 ]\n",
            " [ 0.99288247  0.20938504 -0.37037036]\n",
            " [ 0.99288247  2.17018137 -1.03550842]\n",
            " [ 0.99288247 -0.28081405  1.104501  ]\n",
            " [ 0.99288247 -1.65337148  0.06341534]\n",
            " [ 0.99288247  0.0133054   0.03449629]\n",
            " [ 0.99288247  0.11134522  1.04666291]\n",
            " [-1.00716855 -0.08473441 -0.37037036]\n",
            " [-1.00716855 -1.1631724   0.06341534]\n",
            " [-1.00716855 -0.28081405 -1.35361793]\n",
            " [-1.00716855  1.58194247  1.104501  ]\n",
            " [ 0.99288247 -0.77101313 -1.52713221]\n",
            " [ 0.99288247  0.11134522  1.8563962 ]\n",
            " [ 0.99288247 -0.86905295 -0.775237  ]\n",
            " [ 0.99288247 -0.47689368 -0.775237  ]\n",
            " [ 0.99288247 -0.28081405 -0.91983223]\n",
            " [ 0.99288247  0.30742485 -0.71739891]\n",
            " [-1.00716855  0.30742485  0.06341534]\n",
            " [-1.00716855  0.11134522  1.8563962 ]\n",
            " [-1.00716855 -1.06513258  1.94315334]\n",
            " [-1.00716855 -1.65337148 -1.55605125]\n",
            " [ 0.99288247 -1.1631724  -1.09334651]\n",
            " [ 0.99288247 -0.67297331 -0.11009894]\n",
            " [-1.00716855  0.11134522  0.09233438]\n",
            " [ 0.99288247  0.30742485  0.26584866]\n",
            " [-1.00716855  0.89566375 -0.57280368]\n",
            " [-1.00716855  0.30742485 -1.1511846 ]\n",
            " [-1.00716855 -0.08473441  0.67071531]\n",
            " [-1.00716855  2.17018137 -0.68847986]\n",
            " [ 0.99288247 -1.26121221 -1.38253697]\n",
            " [-1.00716855 -0.96709276 -0.94875128]\n",
            " [-1.00716855  0.0133054  -0.42820845]\n",
            " [-1.00716855 -0.18277423 -0.45712749]\n",
            " [-1.00716855 -1.7514113  -0.97767033]\n",
            " [-1.00716855  1.7780221   0.98882482]\n",
            " [ 0.99288247  0.20938504 -0.37037036]\n",
            " [-1.00716855  0.40546467  1.104501  ]\n",
            " [-1.00716855 -1.7514113  -1.35361793]\n",
            " [ 0.99288247  0.20938504 -0.13901799]\n",
            " [ 0.99288247  0.89566375 -1.44037507]\n",
            " [-1.00716855 -1.94749093  0.46828198]\n",
            " [ 0.99288247 -0.28081405  0.26584866]\n",
            " [-1.00716855  1.87606192 -1.06442747]\n",
            " [-1.00716855 -0.37885386  0.06341534]\n",
            " [-1.00716855  1.09174339 -0.89091319]\n",
            " [-1.00716855 -1.06513258 -1.12226556]\n",
            " [ 0.99288247 -1.84945111  0.00557724]\n",
            " [-1.00716855  0.11134522  0.26584866]\n",
            " [ 0.99288247 -1.1631724   0.32368675]\n",
            " [ 0.99288247 -1.26121221  0.29476771]\n",
            " [-1.00716855 -0.96709276  0.43936294]\n",
            " [ 0.99288247  1.67998229 -0.89091319]\n",
            " [-1.00716855  1.1897832   0.52612008]\n",
            " [ 0.99288247  1.09174339  0.52612008]\n",
            " [ 0.99288247  1.38586284  2.31910094]\n",
            " [-1.00716855 -0.28081405 -0.13901799]\n",
            " [ 0.99288247  0.40546467 -0.45712749]\n",
            " [ 0.99288247 -0.37885386 -0.775237  ]\n",
            " [ 0.99288247 -0.08473441 -0.51496559]\n",
            " [-1.00716855  0.99370357 -1.1511846 ]\n",
            " [ 0.99288247 -0.86905295 -0.775237  ]\n",
            " [ 0.99288247 -0.18277423 -0.51496559]\n",
            " [-1.00716855 -1.06513258 -0.45712749]\n",
            " [-1.00716855 -1.1631724   1.39369146]]\n"
          ]
        }
      ]
    },
    {
      "cell_type": "code",
      "source": [
        "from sklearn.linear_model import LogisticRegression\n",
        "classifierLR=LogisticRegression()\n",
        "classifierLR.fit(X_train,y_train)"
      ],
      "metadata": {
        "colab": {
          "base_uri": "https://localhost:8080/",
          "height": 74
        },
        "id": "vGyLgdeJmOH5",
        "outputId": "f2fa5b28-4e3d-44bd-81e9-e43529f64734"
      },
      "execution_count": 10,
      "outputs": [
        {
          "output_type": "execute_result",
          "data": {
            "text/plain": [
              "LogisticRegression()"
            ],
            "text/html": [
              "<style>#sk-container-id-1 {color: black;background-color: white;}#sk-container-id-1 pre{padding: 0;}#sk-container-id-1 div.sk-toggleable {background-color: white;}#sk-container-id-1 label.sk-toggleable__label {cursor: pointer;display: block;width: 100%;margin-bottom: 0;padding: 0.3em;box-sizing: border-box;text-align: center;}#sk-container-id-1 label.sk-toggleable__label-arrow:before {content: \"▸\";float: left;margin-right: 0.25em;color: #696969;}#sk-container-id-1 label.sk-toggleable__label-arrow:hover:before {color: black;}#sk-container-id-1 div.sk-estimator:hover label.sk-toggleable__label-arrow:before {color: black;}#sk-container-id-1 div.sk-toggleable__content {max-height: 0;max-width: 0;overflow: hidden;text-align: left;background-color: #f0f8ff;}#sk-container-id-1 div.sk-toggleable__content pre {margin: 0.2em;color: black;border-radius: 0.25em;background-color: #f0f8ff;}#sk-container-id-1 input.sk-toggleable__control:checked~div.sk-toggleable__content {max-height: 200px;max-width: 100%;overflow: auto;}#sk-container-id-1 input.sk-toggleable__control:checked~label.sk-toggleable__label-arrow:before {content: \"▾\";}#sk-container-id-1 div.sk-estimator input.sk-toggleable__control:checked~label.sk-toggleable__label {background-color: #d4ebff;}#sk-container-id-1 div.sk-label input.sk-toggleable__control:checked~label.sk-toggleable__label {background-color: #d4ebff;}#sk-container-id-1 input.sk-hidden--visually {border: 0;clip: rect(1px 1px 1px 1px);clip: rect(1px, 1px, 1px, 1px);height: 1px;margin: -1px;overflow: hidden;padding: 0;position: absolute;width: 1px;}#sk-container-id-1 div.sk-estimator {font-family: monospace;background-color: #f0f8ff;border: 1px dotted black;border-radius: 0.25em;box-sizing: border-box;margin-bottom: 0.5em;}#sk-container-id-1 div.sk-estimator:hover {background-color: #d4ebff;}#sk-container-id-1 div.sk-parallel-item::after {content: \"\";width: 100%;border-bottom: 1px solid gray;flex-grow: 1;}#sk-container-id-1 div.sk-label:hover label.sk-toggleable__label {background-color: #d4ebff;}#sk-container-id-1 div.sk-serial::before {content: \"\";position: absolute;border-left: 1px solid gray;box-sizing: border-box;top: 0;bottom: 0;left: 50%;z-index: 0;}#sk-container-id-1 div.sk-serial {display: flex;flex-direction: column;align-items: center;background-color: white;padding-right: 0.2em;padding-left: 0.2em;position: relative;}#sk-container-id-1 div.sk-item {position: relative;z-index: 1;}#sk-container-id-1 div.sk-parallel {display: flex;align-items: stretch;justify-content: center;background-color: white;position: relative;}#sk-container-id-1 div.sk-item::before, #sk-container-id-1 div.sk-parallel-item::before {content: \"\";position: absolute;border-left: 1px solid gray;box-sizing: border-box;top: 0;bottom: 0;left: 50%;z-index: -1;}#sk-container-id-1 div.sk-parallel-item {display: flex;flex-direction: column;z-index: 1;position: relative;background-color: white;}#sk-container-id-1 div.sk-parallel-item:first-child::after {align-self: flex-end;width: 50%;}#sk-container-id-1 div.sk-parallel-item:last-child::after {align-self: flex-start;width: 50%;}#sk-container-id-1 div.sk-parallel-item:only-child::after {width: 0;}#sk-container-id-1 div.sk-dashed-wrapped {border: 1px dashed gray;margin: 0 0.4em 0.5em 0.4em;box-sizing: border-box;padding-bottom: 0.4em;background-color: white;}#sk-container-id-1 div.sk-label label {font-family: monospace;font-weight: bold;display: inline-block;line-height: 1.2em;}#sk-container-id-1 div.sk-label-container {text-align: center;}#sk-container-id-1 div.sk-container {/* jupyter's `normalize.less` sets `[hidden] { display: none; }` but bootstrap.min.css set `[hidden] { display: none !important; }` so we also need the `!important` here to be able to override the default hidden behavior on the sphinx rendered scikit-learn.org. See: https://github.com/scikit-learn/scikit-learn/issues/21755 */display: inline-block !important;position: relative;}#sk-container-id-1 div.sk-text-repr-fallback {display: none;}</style><div id=\"sk-container-id-1\" class=\"sk-top-container\"><div class=\"sk-text-repr-fallback\"><pre>LogisticRegression()</pre><b>In a Jupyter environment, please rerun this cell to show the HTML representation or trust the notebook. <br />On GitHub, the HTML representation is unable to render, please try loading this page with nbviewer.org.</b></div><div class=\"sk-container\" hidden><div class=\"sk-item\"><div class=\"sk-estimator sk-toggleable\"><input class=\"sk-toggleable__control sk-hidden--visually\" id=\"sk-estimator-id-1\" type=\"checkbox\" checked><label for=\"sk-estimator-id-1\" class=\"sk-toggleable__label sk-toggleable__label-arrow\">LogisticRegression</label><div class=\"sk-toggleable__content\"><pre>LogisticRegression()</pre></div></div></div></div></div>"
            ]
          },
          "metadata": {},
          "execution_count": 10
        }
      ]
    },
    {
      "cell_type": "code",
      "source": [
        "y_predLR=classifierLR.predict(X_test)"
      ],
      "metadata": {
        "id": "9_PiwNIKmdgr"
      },
      "execution_count": 15,
      "outputs": []
    },
    {
      "cell_type": "code",
      "source": [
        "y_predLR"
      ],
      "metadata": {
        "colab": {
          "base_uri": "https://localhost:8080/"
        },
        "id": "8gnGCglKWJh5",
        "outputId": "6da46f44-a07a-4299-e39a-f1a24f01ed13"
      },
      "execution_count": 16,
      "outputs": [
        {
          "output_type": "execute_result",
          "data": {
            "text/plain": [
              "array([0, 0, 0, 0, 0, 0, 0, 1, 0, 1, 0, 0, 0, 0, 0, 0, 0, 0, 1, 0, 0, 1,\n",
              "       0, 1, 0, 1, 0, 0, 0, 0, 0, 0, 1, 0, 0, 0, 0, 0, 0, 1, 0, 0, 0, 0,\n",
              "       1, 0, 0, 1, 0, 1, 1, 0, 0, 0, 1, 0, 0, 0, 1, 0, 0, 1, 0, 0, 0, 1,\n",
              "       0, 0, 0, 0, 1, 0, 0, 0, 0, 0, 1, 0, 1, 1, 1, 1, 0, 0, 1, 1, 0, 1,\n",
              "       0, 0, 0, 1, 0, 0, 0, 0, 0, 1, 1, 1, 0, 0, 0, 0, 1, 1, 0, 0, 0, 0,\n",
              "       0, 0, 1, 1, 1, 1, 1, 0, 1, 1])"
            ]
          },
          "metadata": {},
          "execution_count": 16
        }
      ]
    },
    {
      "cell_type": "code",
      "source": [
        "y_test"
      ],
      "metadata": {
        "colab": {
          "base_uri": "https://localhost:8080/"
        },
        "id": "xCkTFvhJWSQ1",
        "outputId": "82c0461f-ec1c-4009-d217-1e057e56da30"
      },
      "execution_count": 13,
      "outputs": [
        {
          "output_type": "execute_result",
          "data": {
            "text/plain": [
              "array([0, 0, 0, 0, 0, 0, 0, 1, 0, 0, 0, 0, 0, 0, 0, 0, 0, 0, 1, 0, 0, 1,\n",
              "       0, 1, 0, 1, 0, 0, 0, 0, 0, 1, 1, 0, 0, 0, 0, 0, 0, 1, 0, 0, 0, 0,\n",
              "       1, 0, 0, 1, 0, 1, 1, 0, 0, 0, 1, 1, 0, 0, 1, 0, 0, 1, 0, 1, 0, 1,\n",
              "       0, 0, 0, 0, 1, 0, 0, 1, 0, 0, 0, 0, 1, 1, 1, 0, 0, 0, 1, 1, 0, 1,\n",
              "       1, 0, 0, 1, 0, 0, 0, 1, 0, 1, 1, 1, 0, 1, 0, 1, 1, 1, 0, 0, 0, 0,\n",
              "       0, 0, 1, 1, 1, 0, 1, 0, 0, 1])"
            ]
          },
          "metadata": {},
          "execution_count": 13
        }
      ]
    },
    {
      "cell_type": "code",
      "source": [
        "# Making the Confusion Matrix\n",
        "from sklearn.metrics import confusion_matrix\n",
        "cm=confusion_matrix(y_test,y_predLR)\n",
        "print('Confusion Matrix: Logistic Regression')\n",
        "print(cm)"
      ],
      "metadata": {
        "colab": {
          "base_uri": "https://localhost:8080/"
        },
        "id": "cHIxJ4XxWkzw",
        "outputId": "f80902d8-e09b-4fe4-8498-7e0f6282133a"
      },
      "execution_count": 18,
      "outputs": [
        {
          "output_type": "stream",
          "name": "stdout",
          "text": [
            "Confusion Matrix: Logistic Regression\n",
            "[[74  5]\n",
            " [ 8 33]]\n"
          ]
        }
      ]
    },
    {
      "cell_type": "code",
      "source": [
        "from sklearn.metrics import accuracy_score\n",
        "from sklearn.metrics import precision_score\n",
        "from sklearn.metrics import recall_score\n",
        "from sklearn.metrics import f1_score"
      ],
      "metadata": {
        "id": "cYpNmXe2XhSK"
      },
      "execution_count": 19,
      "outputs": []
    },
    {
      "cell_type": "code",
      "source": [
        "print('Accuracy:%.2f'%(accuracy_score(y_test,y_predLR)*100))\n",
        "print('Precision:%.3f'%(precision_score(y_test,y_predLR)))\n",
        "print('Recall:%.3f'%(recall_score(y_test,y_predLR)))\n",
        "print('F1 Score:%.3f'%(f1_score(y_test,y_predLR)))"
      ],
      "metadata": {
        "colab": {
          "base_uri": "https://localhost:8080/"
        },
        "id": "nYRhe5FoX6CL",
        "outputId": "f72f68ad-cfe4-4ab4-c4ce-a183cf7d4b11"
      },
      "execution_count": 24,
      "outputs": [
        {
          "output_type": "stream",
          "name": "stdout",
          "text": [
            "Accuracy:89.17\n",
            "Precision:0.868\n",
            "Recall:0.805\n",
            "F1 Score:0.835\n"
          ]
        }
      ]
    },
    {
      "cell_type": "markdown",
      "source": [
        "# Implement Gaussian NB"
      ],
      "metadata": {
        "id": "0UojYdWIYxaI"
      }
    },
    {
      "cell_type": "code",
      "source": [
        "from sklearn.naive_bayes import GaussianNB\n",
        "classifierNB=GaussianNB()\n",
        "classifierNB.fit(X_train,y_train)"
      ],
      "metadata": {
        "colab": {
          "base_uri": "https://localhost:8080/",
          "height": 74
        },
        "id": "UKdT9ajtY1RU",
        "outputId": "b791ed22-cd76-471f-92e7-d7503506175f"
      },
      "execution_count": 25,
      "outputs": [
        {
          "output_type": "execute_result",
          "data": {
            "text/plain": [
              "GaussianNB()"
            ],
            "text/html": [
              "<style>#sk-container-id-2 {color: black;background-color: white;}#sk-container-id-2 pre{padding: 0;}#sk-container-id-2 div.sk-toggleable {background-color: white;}#sk-container-id-2 label.sk-toggleable__label {cursor: pointer;display: block;width: 100%;margin-bottom: 0;padding: 0.3em;box-sizing: border-box;text-align: center;}#sk-container-id-2 label.sk-toggleable__label-arrow:before {content: \"▸\";float: left;margin-right: 0.25em;color: #696969;}#sk-container-id-2 label.sk-toggleable__label-arrow:hover:before {color: black;}#sk-container-id-2 div.sk-estimator:hover label.sk-toggleable__label-arrow:before {color: black;}#sk-container-id-2 div.sk-toggleable__content {max-height: 0;max-width: 0;overflow: hidden;text-align: left;background-color: #f0f8ff;}#sk-container-id-2 div.sk-toggleable__content pre {margin: 0.2em;color: black;border-radius: 0.25em;background-color: #f0f8ff;}#sk-container-id-2 input.sk-toggleable__control:checked~div.sk-toggleable__content {max-height: 200px;max-width: 100%;overflow: auto;}#sk-container-id-2 input.sk-toggleable__control:checked~label.sk-toggleable__label-arrow:before {content: \"▾\";}#sk-container-id-2 div.sk-estimator input.sk-toggleable__control:checked~label.sk-toggleable__label {background-color: #d4ebff;}#sk-container-id-2 div.sk-label input.sk-toggleable__control:checked~label.sk-toggleable__label {background-color: #d4ebff;}#sk-container-id-2 input.sk-hidden--visually {border: 0;clip: rect(1px 1px 1px 1px);clip: rect(1px, 1px, 1px, 1px);height: 1px;margin: -1px;overflow: hidden;padding: 0;position: absolute;width: 1px;}#sk-container-id-2 div.sk-estimator {font-family: monospace;background-color: #f0f8ff;border: 1px dotted black;border-radius: 0.25em;box-sizing: border-box;margin-bottom: 0.5em;}#sk-container-id-2 div.sk-estimator:hover {background-color: #d4ebff;}#sk-container-id-2 div.sk-parallel-item::after {content: \"\";width: 100%;border-bottom: 1px solid gray;flex-grow: 1;}#sk-container-id-2 div.sk-label:hover label.sk-toggleable__label {background-color: #d4ebff;}#sk-container-id-2 div.sk-serial::before {content: \"\";position: absolute;border-left: 1px solid gray;box-sizing: border-box;top: 0;bottom: 0;left: 50%;z-index: 0;}#sk-container-id-2 div.sk-serial {display: flex;flex-direction: column;align-items: center;background-color: white;padding-right: 0.2em;padding-left: 0.2em;position: relative;}#sk-container-id-2 div.sk-item {position: relative;z-index: 1;}#sk-container-id-2 div.sk-parallel {display: flex;align-items: stretch;justify-content: center;background-color: white;position: relative;}#sk-container-id-2 div.sk-item::before, #sk-container-id-2 div.sk-parallel-item::before {content: \"\";position: absolute;border-left: 1px solid gray;box-sizing: border-box;top: 0;bottom: 0;left: 50%;z-index: -1;}#sk-container-id-2 div.sk-parallel-item {display: flex;flex-direction: column;z-index: 1;position: relative;background-color: white;}#sk-container-id-2 div.sk-parallel-item:first-child::after {align-self: flex-end;width: 50%;}#sk-container-id-2 div.sk-parallel-item:last-child::after {align-self: flex-start;width: 50%;}#sk-container-id-2 div.sk-parallel-item:only-child::after {width: 0;}#sk-container-id-2 div.sk-dashed-wrapped {border: 1px dashed gray;margin: 0 0.4em 0.5em 0.4em;box-sizing: border-box;padding-bottom: 0.4em;background-color: white;}#sk-container-id-2 div.sk-label label {font-family: monospace;font-weight: bold;display: inline-block;line-height: 1.2em;}#sk-container-id-2 div.sk-label-container {text-align: center;}#sk-container-id-2 div.sk-container {/* jupyter's `normalize.less` sets `[hidden] { display: none; }` but bootstrap.min.css set `[hidden] { display: none !important; }` so we also need the `!important` here to be able to override the default hidden behavior on the sphinx rendered scikit-learn.org. See: https://github.com/scikit-learn/scikit-learn/issues/21755 */display: inline-block !important;position: relative;}#sk-container-id-2 div.sk-text-repr-fallback {display: none;}</style><div id=\"sk-container-id-2\" class=\"sk-top-container\"><div class=\"sk-text-repr-fallback\"><pre>GaussianNB()</pre><b>In a Jupyter environment, please rerun this cell to show the HTML representation or trust the notebook. <br />On GitHub, the HTML representation is unable to render, please try loading this page with nbviewer.org.</b></div><div class=\"sk-container\" hidden><div class=\"sk-item\"><div class=\"sk-estimator sk-toggleable\"><input class=\"sk-toggleable__control sk-hidden--visually\" id=\"sk-estimator-id-2\" type=\"checkbox\" checked><label for=\"sk-estimator-id-2\" class=\"sk-toggleable__label sk-toggleable__label-arrow\">GaussianNB</label><div class=\"sk-toggleable__content\"><pre>GaussianNB()</pre></div></div></div></div></div>"
            ]
          },
          "metadata": {},
          "execution_count": 25
        }
      ]
    },
    {
      "cell_type": "code",
      "source": [
        "y_predNB=classifierNB.predict(X_test)\n"
      ],
      "metadata": {
        "id": "f7T7GQZSa9N3"
      },
      "execution_count": 26,
      "outputs": []
    },
    {
      "cell_type": "code",
      "source": [
        "cmNB=confusion_matrix(y_test,y_predNB)\n",
        "print('Confusion Matrix: Gaussian NB')\n",
        "print(cmNB)"
      ],
      "metadata": {
        "colab": {
          "base_uri": "https://localhost:8080/"
        },
        "id": "UCTc5s2dbHwx",
        "outputId": "28975323-a7b3-406d-9b78-e71808a7a212"
      },
      "execution_count": 27,
      "outputs": [
        {
          "output_type": "stream",
          "name": "stdout",
          "text": [
            "Confusion Matrix: Gaussian NB\n",
            "[[76  3]\n",
            " [ 8 33]]\n"
          ]
        }
      ]
    },
    {
      "cell_type": "code",
      "source": [
        "print('*******************Accuracy************************')\n",
        "print('Accuracy-LR:%.2f'%(accuracy_score(y_test,y_predLR)*100))\n",
        "print('Accuracy-NB:%.2f'%(accuracy_score(y_test,y_predNB)*100))\n",
        "print('******************Precision*************************')\n",
        "print('Precision-LR:%.3f'%(precision_score(y_test,y_predLR)))\n",
        "print('Precision-NB:%.3f'%(precision_score(y_test,y_predNB)))\n",
        "print('*******************Recall***************************')\n",
        "print('Recall-LR:%.3f'%(recall_score(y_test,y_predLR)))\n",
        "print('Recall-NB:%.3f'%(recall_score(y_test,y_predNB)))\n",
        "print('*****************F1 Score***************************')\n",
        "print('F1 Score-LR:%.3f'%(f1_score(y_test,y_predLR)))\n",
        "print('F1 Score-NB:%.3f'%(f1_score(y_test,y_predNB)))"
      ],
      "metadata": {
        "colab": {
          "base_uri": "https://localhost:8080/"
        },
        "id": "fnn6mdKtbWL1",
        "outputId": "e22f0040-fc86-4059-a23d-f3e474927952"
      },
      "execution_count": 29,
      "outputs": [
        {
          "output_type": "stream",
          "name": "stdout",
          "text": [
            "*******************Accuracy************************\n",
            "Accuracy-LR:89.17\n",
            "Accuracy-NB:90.83\n",
            "******************Precision*************************\n",
            "Precision-LR:0.868\n",
            "Precision-NB:0.917\n",
            "*******************Recall***************************\n",
            "Recall-LR:0.805\n",
            "Recall-NB:0.805\n",
            "*****************F1 Score***************************\n",
            "F1 Score-LR:0.835\n",
            "F1 Score-NB:0.857\n"
          ]
        }
      ]
    },
    {
      "cell_type": "code",
      "source": [],
      "metadata": {
        "id": "OVOUo8YQcLX-"
      },
      "execution_count": null,
      "outputs": []
    }
  ]
}